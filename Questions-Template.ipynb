{
 "cells": [
  {
   "cell_type": "markdown",
   "metadata": {},
   "source": [
    "# Python"
   ]
  },
  {
   "cell_type": "markdown",
   "metadata": {},
   "source": [
    "- Convert every vowel (`aeoui`) in the given sentence into capital and other letters to be small"
   ]
  },
  {
   "cell_type": "code",
   "execution_count": 5,
   "metadata": {},
   "outputs": [],
   "source": [
    "message = \"Here is My Technical intervieW Through JUPYTer\""
   ]
  },
  {
   "cell_type": "markdown",
   "metadata": {},
   "source": [
    "- Create 2 random arrays of integers each of size **100_000** and find the elements inside the `A` array not within the `B` array"
   ]
  },
  {
   "cell_type": "code",
   "execution_count": 2,
   "metadata": {},
   "outputs": [],
   "source": [
    "A = ...\n",
    "B = ...\n",
    "\n",
    "C = ... # elements in A not in B"
   ]
  },
  {
   "cell_type": "markdown",
   "metadata": {},
   "source": [
    "- Generate a random 2D array of size `1000 X 600`   \n",
    "implement the PCA (using numpy only) to reduce the data size into 2 Dimensions only"
   ]
  },
  {
   "cell_type": "code",
   "execution_count": null,
   "metadata": {},
   "outputs": [],
   "source": []
  },
  {
   "cell_type": "markdown",
   "metadata": {
    "colab_type": "text",
    "id": "x_BkOtqBIKQz"
   },
   "source": [
    "# Data Science Challenge"
   ]
  },
  {
   "cell_type": "code",
   "execution_count": 3,
   "metadata": {
    "colab": {},
    "colab_type": "code",
    "id": "VzGFUCCVIKRL"
   },
   "outputs": [],
   "source": [
    "# Import libraries \n"
   ]
  },
  {
   "cell_type": "markdown",
   "metadata": {
    "colab_type": "text",
    "id": "TZ23KNY8IKRT"
   },
   "source": [
    "## Data Description"
   ]
  },
  {
   "cell_type": "markdown",
   "metadata": {
    "colab_type": "text",
    "id": "jWSkqquEIKRW"
   },
   "source": [
    "Column | Description\n",
    ":---|:---------\n",
    "`title` |Title of the movie|\n",
    "`country` | Countries in which movie was released|\n",
    "`genres` | Movie Genres (Action ,Adventure, Comedy etc.)\n",
    "`language` | Languages in which movie was released\n",
    "`writer_count` | Number of writers of the movie\n",
    "`title_adaption` | Is movie original screenplay or adapted.\n",
    "`censor_rating` | Release rating given to the movie (R /PG-13/PG/NR/UR/G)\n",
    "`release_date` | Date when movie was released\n",
    "`runtime` | Movie runtime\n",
    "`dvd_release_date` | Date of release of DVD for sale\n",
    "`users_votes` | Number of users who voted for this movie to be included in Watch-It library\n",
    "`comments` | Number of comments on movie trailer(as of now)\n",
    "`likes` | Number of likes on movie trailer (as of now)\n",
    "`overall_views` | Number of views on movie trailer (as of now)\n",
    "`dislikes` | Number of dislikes on movie trailer (as of now)\n",
    "`ratings_imdb` | Rating given to movie on IMDB.\n",
    "`ratings_tomatoes` | Rating given to movie on Rotten tomatoes.\n",
    "`ratings_metacritic` | Rating given to movie on Metacritic etc.\n",
    "`special_award` | Number of awards nominations/winnings in BAFTA, Oscar or  Golden Globe.\n",
    "`awards_win` | awards won by the movie\n",
    "`awards_nomination` | Number of awards nominations\n",
    "`revenue_category` | Revenue Category (High/Low)"
   ]
  },
  {
   "cell_type": "markdown",
   "metadata": {
    "colab_type": "text",
    "id": "BWQqx7cSIKRX"
   },
   "source": [
    "## Read the Data"
   ]
  },
  {
   "cell_type": "code",
   "execution_count": null,
   "metadata": {},
   "outputs": [],
   "source": []
  },
  {
   "cell_type": "markdown",
   "metadata": {},
   "source": [
    "## Perform Exploratory Data Analysis"
   ]
  },
  {
   "cell_type": "markdown",
   "metadata": {},
   "source": [
    "1- Plot the frequency of each `rating` category."
   ]
  },
  {
   "cell_type": "markdown",
   "metadata": {},
   "source": [
    "![Rating](imgs/rating_freq.png)"
   ]
  },
  {
   "cell_type": "markdown",
   "metadata": {},
   "source": [
    "2- Plot the TOP 10 `countries` with Highest Movies Production (Rank countries with num. of movies produced)"
   ]
  },
  {
   "cell_type": "markdown",
   "metadata": {},
   "source": [
    "![Countries](imgs/top_10_countries.png)"
   ]
  },
  {
   "cell_type": "code",
   "execution_count": null,
   "metadata": {},
   "outputs": [],
   "source": []
  },
  {
   "cell_type": "markdown",
   "metadata": {},
   "source": [
    "3- Plot number of `languages` for Movies Release (Movies has multiple languages ... show the frequency of each language)"
   ]
  },
  {
   "cell_type": "markdown",
   "metadata": {},
   "source": [
    "![Languages](imgs/languages_freq.png)"
   ]
  },
  {
   "cell_type": "code",
   "execution_count": null,
   "metadata": {},
   "outputs": [],
   "source": []
  },
  {
   "cell_type": "markdown",
   "metadata": {},
   "source": [
    "4- Plot TOP 10 `Genres` with Highest Movies Production (Each movie has many Genres, Rank the Genres by frequency)"
   ]
  },
  {
   "cell_type": "markdown",
   "metadata": {},
   "source": [
    "![Languages](imgs/top_10_genres.png)"
   ]
  },
  {
   "cell_type": "code",
   "execution_count": null,
   "metadata": {},
   "outputs": [],
   "source": []
  },
  {
   "cell_type": "markdown",
   "metadata": {},
   "source": [
    "## Machine Learning Model"
   ]
  },
  {
   "cell_type": "markdown",
   "metadata": {},
   "source": [
    "- Train a ML model to predict the target using movies features, or additional engineered features\n",
    "- Evaluate the model based on accuracy\n",
    "- Apply Cross validation\n",
    "- Show the top 10 important features\n",
    "- submit the prediction of test dataset into a csv file"
   ]
  },
  {
   "cell_type": "code",
   "execution_count": null,
   "metadata": {},
   "outputs": [],
   "source": []
  }
 ],
 "metadata": {
  "colab": {
   "collapsed_sections": [],
   "name": "Questions_with_solution.ipynb",
   "provenance": []
  },
  "kernelspec": {
   "display_name": "Python 3.7.2 64-bit",
   "language": "python",
   "name": "python3"
  },
  "language_info": {
   "codemirror_mode": {
    "name": "ipython",
    "version": 3
   },
   "file_extension": ".py",
   "mimetype": "text/x-python",
   "name": "python",
   "nbconvert_exporter": "python",
   "pygments_lexer": "ipython3",
   "version": "3.7.2"
  },
  "toc": {
   "base_numbering": 1,
   "nav_menu": {},
   "number_sections": true,
   "sideBar": true,
   "skip_h1_title": false,
   "title_cell": "Table of Contents",
   "title_sidebar": "Contents",
   "toc_cell": false,
   "toc_position": {},
   "toc_section_display": true,
   "toc_window_display": false
  },
  "vscode": {
   "interpreter": {
    "hash": "173b1ad0e598a21817c913127c0ed612d69b6c3d0fd1e8e7f3c7ab65a8d7b09a"
   }
  }
 },
 "nbformat": 4,
 "nbformat_minor": 4
}
